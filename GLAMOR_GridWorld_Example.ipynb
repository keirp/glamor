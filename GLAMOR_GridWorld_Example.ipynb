{
 "cells": [
  {
   "cell_type": "code",
   "execution_count": 1,
   "metadata": {},
   "outputs": [
    {
     "ename": "ModuleNotFoundError",
     "evalue": "No module named 'rlpyt'",
     "output_type": "error",
     "traceback": [
      "\u001b[0;31m---------------------------------------------------------------------------\u001b[0m",
      "\u001b[0;31mModuleNotFoundError\u001b[0m                       Traceback (most recent call last)",
      "\u001b[0;32m<ipython-input-1-0df1da85e65e>\u001b[0m in \u001b[0;36m<module>\u001b[0;34m\u001b[0m\n\u001b[0;32m----> 1\u001b[0;31m \u001b[0;32mfrom\u001b[0m \u001b[0mglamor\u001b[0m\u001b[0;34m.\u001b[0m\u001b[0menvs\u001b[0m\u001b[0;34m.\u001b[0m\u001b[0mgrid_world\u001b[0m\u001b[0;34m.\u001b[0m\u001b[0mcustom_grid_world\u001b[0m \u001b[0;32mimport\u001b[0m \u001b[0mCustomGridWorld\u001b[0m\u001b[0;34m,\u001b[0m \u001b[0mUniformGridWorldGoalDist\u001b[0m\u001b[0;34m\u001b[0m\u001b[0;34m\u001b[0m\u001b[0m\n\u001b[0m\u001b[1;32m      2\u001b[0m \u001b[0;32mfrom\u001b[0m \u001b[0mglamor\u001b[0m\u001b[0;34m.\u001b[0m\u001b[0mmodels\u001b[0m\u001b[0;34m.\u001b[0m\u001b[0mencoder_lstm_model\u001b[0m \u001b[0;32mimport\u001b[0m \u001b[0mEncoderLSTMModel\u001b[0m\u001b[0;34m\u001b[0m\u001b[0;34m\u001b[0m\u001b[0m\n\u001b[1;32m      3\u001b[0m \u001b[0;32mfrom\u001b[0m \u001b[0mglamor\u001b[0m\u001b[0;34m.\u001b[0m\u001b[0mmodels\u001b[0m\u001b[0;34m.\u001b[0m\u001b[0mbasic\u001b[0m\u001b[0;34m.\u001b[0m\u001b[0mmlp\u001b[0m \u001b[0;32mimport\u001b[0m \u001b[0mMLP\u001b[0m\u001b[0;34m\u001b[0m\u001b[0;34m\u001b[0m\u001b[0m\n\u001b[1;32m      4\u001b[0m \u001b[0;32mimport\u001b[0m \u001b[0mtorch\u001b[0m\u001b[0;34m.\u001b[0m\u001b[0mnn\u001b[0m \u001b[0;32mas\u001b[0m \u001b[0mnn\u001b[0m\u001b[0;34m\u001b[0m\u001b[0;34m\u001b[0m\u001b[0m\n\u001b[1;32m      5\u001b[0m \u001b[0;34m\u001b[0m\u001b[0m\n",
      "\u001b[0;32m~/Documents/projects/vector/glamor_public/glamor/envs/grid_world/custom_grid_world.py\u001b[0m in \u001b[0;36m<module>\u001b[0;34m\u001b[0m\n\u001b[1;32m      1\u001b[0m \u001b[0;32mimport\u001b[0m \u001b[0mnumpy\u001b[0m \u001b[0;32mas\u001b[0m \u001b[0mnp\u001b[0m\u001b[0;34m\u001b[0m\u001b[0;34m\u001b[0m\u001b[0m\n\u001b[1;32m      2\u001b[0m \u001b[0;32mimport\u001b[0m \u001b[0mos\u001b[0m\u001b[0;34m\u001b[0m\u001b[0;34m\u001b[0m\u001b[0m\n\u001b[0;32m----> 3\u001b[0;31m \u001b[0;32mfrom\u001b[0m \u001b[0mrlpyt\u001b[0m\u001b[0;34m.\u001b[0m\u001b[0menvs\u001b[0m\u001b[0;34m.\u001b[0m\u001b[0mbase\u001b[0m \u001b[0;32mimport\u001b[0m \u001b[0mEnv\u001b[0m\u001b[0;34m,\u001b[0m \u001b[0mEnvStep\u001b[0m\u001b[0;34m\u001b[0m\u001b[0;34m\u001b[0m\u001b[0m\n\u001b[0m\u001b[1;32m      4\u001b[0m \u001b[0;32mfrom\u001b[0m \u001b[0mrlpyt\u001b[0m\u001b[0;34m.\u001b[0m\u001b[0mspaces\u001b[0m\u001b[0;34m.\u001b[0m\u001b[0mint_box\u001b[0m \u001b[0;32mimport\u001b[0m \u001b[0mIntBox\u001b[0m\u001b[0;34m\u001b[0m\u001b[0;34m\u001b[0m\u001b[0m\n\u001b[1;32m      5\u001b[0m \u001b[0;32mfrom\u001b[0m \u001b[0mcollections\u001b[0m \u001b[0;32mimport\u001b[0m \u001b[0mnamedtuple\u001b[0m\u001b[0;34m\u001b[0m\u001b[0;34m\u001b[0m\u001b[0m\n",
      "\u001b[0;31mModuleNotFoundError\u001b[0m: No module named 'rlpyt'"
     ]
    }
   ],
   "source": [
    "from glamor.envs.grid_world.custom_grid_world import CustomGridWorld, UniformGridWorldGoalDist\n",
    "from glamor.models.encoder_lstm_model import EncoderLSTMModel\n",
    "from glamor.models.basic.mlp import MLP\n",
    "import torch.nn as nn\n",
    "\n",
    "from glamor.algos.batch_train_glamor import BatchTrainGLAMOR\n",
    "\n",
    "from glamor.utils.logging import disable_wandb\n",
    "\n",
    "disable_wandb('runs/')\n",
    "\n",
    "import torch\n",
    "import wandb\n",
    "import numpy as np\n",
    "\n",
    "%matplotlib inline\n",
    "\n",
    "import matplotlib.pyplot as plt\n",
    "\n",
    "from glamor.train.scripts import train_glamor"
   ]
  },
  {
   "cell_type": "markdown",
   "metadata": {},
   "source": [
    "## Define environment and task distribution"
   ]
  },
  {
   "cell_type": "code",
   "execution_count": 3,
   "metadata": {},
   "outputs": [],
   "source": [
    "env_cls = lambda: CustomGridWorld(start_x=3, start_y=3, grid_file='empty_small.txt')\n",
    "env = env_cls()\n",
    "obs = env.reset()\n",
    "obs_shape = obs.shape\n",
    "n_actions = env.action_space.n\n",
    "state_size = 512\n",
    "k = 10\n",
    "\n",
    "device = 'cpu'\n",
    "\n",
    "task_dist = UniformGridWorldGoalDist(env.grid)\n",
    "task_iter = iter(task_dist)"
   ]
  },
  {
   "cell_type": "markdown",
   "metadata": {},
   "source": [
    "### Environment visualization"
   ]
  },
  {
   "cell_type": "code",
   "execution_count": 4,
   "metadata": {},
   "outputs": [
    {
     "data": {
      "image/png": "[encoded data removed]",
      "text/plain": [
       "<Figure size 432x288 with 1 Axes>"
      ]
     },
     "metadata": {
      "needs_background": "light"
     },
     "output_type": "display_data"
    }
   ],
   "source": [
    "def get_render(grid):\n",
    "    frame = np.zeros_like(grid[0])\n",
    "    frame += (grid[0] // 2)\n",
    "    frame += grid[1]\n",
    "    return frame\n",
    "\n",
    "def render_grid(grid):\n",
    "    frame = get_render(grid)\n",
    "    plt.imshow(frame)\n",
    "    \n",
    "render_grid(env._get_grid())"
   ]
  },
  {
   "cell_type": "markdown",
   "metadata": {},
   "source": [
    "## Define model architecture\n",
    "\n",
    "Here we just use a simple MLP to encode observations/goals and an LSTM to model the action distributions."
   ]
  },
  {
   "cell_type": "code",
   "execution_count": 5,
   "metadata": {},
   "outputs": [
    {
     "name": "stdout",
     "output_type": "stream",
     "text": [
      "Obs rep size: 512, Task rep size: 512, State size: 512\n"
     ]
    }
   ],
   "source": [
    "class GridEncoder(nn.Module):\n",
    "    \n",
    "    def __init__(self, obs_shape):\n",
    "        super().__init__()\n",
    "        \n",
    "        obs_dim = np.prod(obs_shape)\n",
    "        \n",
    "        self.encoder = MLP(in_dim=obs_dim,\n",
    "                           out_dim=state_size,\n",
    "                           hidden=[128, 128, 128],\n",
    "                           use_layer_norm=True,\n",
    "                           nonlinearity=nn.ReLU)\n",
    "\n",
    "    def forward(self, x):\n",
    "        x = x / 255.\n",
    "        x = x.view(x.shape[0], -1)\n",
    "        return self.encoder(x)\n",
    "    \n",
    "shared_encoder = GridEncoder(obs_shape)\n",
    "model = EncoderLSTMModel(obs_shape=obs_shape,\n",
    "                         n_actions=n_actions,  \n",
    "                         device=device,\n",
    "                         obs_encoder=shared_encoder,\n",
    "                         task_encoder=shared_encoder,\n",
    "                         obs_rep_size=state_size,\n",
    "                         task_rep_size=state_size,\n",
    "                         state_size=state_size,\n",
    "                         lstm_hidden_dim=64,\n",
    "                         lstm_layers=1,\n",
    "                         lstm_dropout_p=0)"
   ]
  },
  {
   "cell_type": "markdown",
   "metadata": {},
   "source": [
    "## Train GLAMOR\n",
    "\n",
    "This should take shorter than 5 minutes on a CPU."
   ]
  },
  {
   "cell_type": "code",
   "execution_count": 6,
   "metadata": {
    "scrolled": true
   },
   "outputs": [
    {
     "name": "stderr",
     "output_type": "stream",
     "text": [
      "100%|██████████| 500/500 [00:00<00:00, 5764.94it/s]\n",
      "  0%|          | 0/10000 [00:00<?, ?it/s]"
     ]
    },
    {
     "name": "stdout",
     "output_type": "stream",
     "text": [
      "Initialized environment.\n",
      "Generated task distributions.\n",
      "{'x': 0, 'y': 0}\n",
      "{'x': 6, 'y': 6}\n",
      "{'x': 0.6000000000000001, 'y': 0.6000000000000001}\n",
      "Doing 1 batches to 5 trajs.\n",
      "Effective replay ratio: 4.0\n",
      "Replay buffer with obs_buffer shape (100000, 2, 7, 7)\n",
      "Datatypes: obs: uint8, actions: int32\n",
      "Started training.\n",
      "Beginning logging...\n",
      "Evaluating closed_loop_grid_world_goals_label_diff\n"
     ]
    },
    {
     "name": "stderr",
     "output_type": "stream",
     "text": [
      "\r",
      "  0%|          | 50/10000 [00:00<00:50, 197.63it/s]"
     ]
    },
    {
     "name": "stdout",
     "output_type": "stream",
     "text": [
      "Logs:\n",
      "\tcum_steps: 0\n",
      "\treplay_size: 0\n",
      "\tagent_eps: 1\n",
      "\teval_time: 0.13513422012329102\n",
      "closed_loop_grid_world_goals_label_diff:\n",
      "\tx: 2.8\n",
      "\ty: 1.6\n",
      "\tavg_diff: 2.2\n",
      "\tavg_pos_diff: 0.0\n",
      "\tachieved_x: 0.0\n",
      "\tachieved_y: 0.0\n",
      "\ttotal_achieved: 0.0\n"
     ]
    },
    {
     "name": "stderr",
     "output_type": "stream",
     "text": [
      "10050it [00:24, 406.89it/s]                           \n",
      "  0%|          | 0/10000 [00:00<?, ?it/s]"
     ]
    },
    {
     "name": "stdout",
     "output_type": "stream",
     "text": [
      "Beginning logging...\n",
      "Evaluating closed_loop_grid_world_goals_label_diff\n",
      "Logs:\n",
      "\tstep_per_sec: 404.85438311087694\n",
      "\tcum_steps: 10050\n",
      "\treplay_size: 10050\n",
      "\tagent_eps: 0.8714285714285714\n",
      "\teval_time: 0.1173858642578125\n",
      "closed_loop_grid_world_goals_label_diff:\n",
      "\tx: 1.6\n",
      "\ty: 0.2\n",
      "\tavg_diff: 0.9\n",
      "\tavg_pos_diff: 0.0\n",
      "\tachieved_x: 0.2\n",
      "\tachieved_y: 0.8\n",
      "\ttotal_achieved: 0.2\n"
     ]
    },
    {
     "name": "stderr",
     "output_type": "stream",
     "text": [
      "10050it [00:24, 407.91it/s]                           \n",
      "  0%|          | 0/10000 [00:00<?, ?it/s]"
     ]
    },
    {
     "name": "stdout",
     "output_type": "stream",
     "text": [
      "Beginning logging...\n",
      "Evaluating closed_loop_grid_world_goals_label_diff\n",
      "Logs:\n",
      "\tstep_per_sec: 403.92635340310494\n",
      "\tcum_steps: 20100\n",
      "\treplay_size: 20100\n",
      "\tagent_eps: 0.7422142857142857\n",
      "\teval_time: 0.1575918197631836\n",
      "closed_loop_grid_world_goals_label_diff:\n",
      "\tx: 2.2\n",
      "\ty: 0.8\n",
      "\tavg_diff: 1.5\n",
      "\tavg_pos_diff: 0.0\n",
      "\tachieved_x: 0.0\n",
      "\tachieved_y: 0.4\n",
      "\ttotal_achieved: 0.0\n"
     ]
    },
    {
     "name": "stderr",
     "output_type": "stream",
     "text": [
      "10050it [00:25, 396.80it/s]                           \n",
      "  0%|          | 0/10000 [00:00<?, ?it/s]"
     ]
    },
    {
     "name": "stdout",
     "output_type": "stream",
     "text": [
      "Beginning logging...\n",
      "Evaluating closed_loop_grid_world_goals_label_diff\n",
      "train:\n",
      "\tactions_ce_loss: 1.6769534349441528\n",
      "\tbaseline_actions_loss: 1.7012009620666504\n",
      "\tce_loss: 3.3781542778015137\n",
      "\tmain_loss: 3.3781542778015137\n",
      "Logs:\n",
      "\tstep_per_sec: 392.35641086171876\n",
      "\tcum_steps: 30150\n",
      "\treplay_size: 30150\n",
      "\tagent_eps: 0.6130000000000001\n",
      "\teval_time: 0.1492750644683838\n",
      "closed_loop_grid_world_goals_label_diff:\n",
      "\tx: 1.2\n",
      "\ty: 1.6\n",
      "\tavg_diff: 1.4\n",
      "\tavg_pos_diff: 0.0\n",
      "\tachieved_x: 0.4\n",
      "\tachieved_y: 0.2\n",
      "\ttotal_achieved: 0.2\n"
     ]
    },
    {
     "name": "stderr",
     "output_type": "stream",
     "text": [
      "10050it [01:11, 140.38it/s]                           \n"
     ]
    },
    {
     "name": "stdout",
     "output_type": "stream",
     "text": [
      "Beginning logging...\n",
      "Evaluating closed_loop_grid_world_goals_label_diff\n"
     ]
    },
    {
     "name": "stderr",
     "output_type": "stream",
     "text": [
      "  0%|          | 50/10000 [00:00<00:28, 348.53it/s]"
     ]
    },
    {
     "name": "stdout",
     "output_type": "stream",
     "text": [
      "train:\n",
      "\tactions_ce_loss: 1.2314993143081665\n",
      "\tbaseline_actions_loss: 1.552107334136963\n",
      "\tce_loss: 2.78360652923584\n",
      "\tmain_loss: 2.78360652923584\n",
      "Logs:\n",
      "\tstep_per_sec: 139.38698835419052\n",
      "\tcum_steps: 40200\n",
      "\treplay_size: 40200\n",
      "\tagent_eps: 0.48378571428571426\n",
      "\teval_time: 0.23602890968322754\n",
      "closed_loop_grid_world_goals_label_diff:\n",
      "\tx: 0.2\n",
      "\ty: 0.6\n",
      "\tavg_diff: 0.4\n",
      "\tavg_pos_diff: 0.0\n",
      "\tachieved_x: 0.8\n",
      "\tachieved_y: 0.4\n",
      "\ttotal_achieved: 0.2\n"
     ]
    },
    {
     "name": "stderr",
     "output_type": "stream",
     "text": [
      "10050it [01:08, 147.41it/s]                           \n"
     ]
    },
    {
     "name": "stdout",
     "output_type": "stream",
     "text": [
      "Beginning logging...\n",
      "Evaluating closed_loop_grid_world_goals_label_diff\n"
     ]
    },
    {
     "name": "stderr",
     "output_type": "stream",
     "text": [
      "  0%|          | 50/10000 [00:00<00:26, 381.96it/s]"
     ]
    },
    {
     "name": "stdout",
     "output_type": "stream",
     "text": [
      "train:\n",
      "\tactions_ce_loss: 1.0115952491760254\n",
      "\tbaseline_actions_loss: 1.5314394235610962\n",
      "\tce_loss: 2.543034553527832\n",
      "\tmain_loss: 2.543034553527832\n",
      "Logs:\n",
      "\tstep_per_sec: 146.16610552975055\n",
      "\tcum_steps: 50250\n",
      "\treplay_size: 50250\n",
      "\tagent_eps: 0.35457142857142854\n",
      "\teval_time: 0.29305601119995117\n",
      "closed_loop_grid_world_goals_label_diff:\n",
      "\tx: 0.2\n",
      "\ty: 0.0\n",
      "\tavg_diff: 0.1\n",
      "\tavg_pos_diff: 0.0\n",
      "\tachieved_x: 0.8\n",
      "\tachieved_y: 1.0\n",
      "\ttotal_achieved: 0.8\n"
     ]
    },
    {
     "name": "stderr",
     "output_type": "stream",
     "text": [
      "10050it [01:09, 144.28it/s]                           \n"
     ]
    },
    {
     "name": "stdout",
     "output_type": "stream",
     "text": [
      "Beginning logging...\n",
      "Evaluating closed_loop_grid_world_goals_label_diff\n"
     ]
    },
    {
     "name": "stderr",
     "output_type": "stream",
     "text": [
      "  0%|          | 50/10000 [00:00<00:28, 354.16it/s]"
     ]
    },
    {
     "name": "stdout",
     "output_type": "stream",
     "text": [
      "train:\n",
      "\tactions_ce_loss: 0.9504319429397583\n",
      "\tbaseline_actions_loss: 1.5297832489013672\n",
      "\tce_loss: 2.480215072631836\n",
      "\tmain_loss: 2.480215072631836\n",
      "Logs:\n",
      "\tstep_per_sec: 142.96026223515068\n",
      "\tcum_steps: 60300\n",
      "\treplay_size: 60300\n",
      "\tagent_eps: 0.2253571428571428\n",
      "\teval_time: 0.4133620262145996\n",
      "closed_loop_grid_world_goals_label_diff:\n",
      "\tx: 0.0\n",
      "\ty: 0.0\n",
      "\tavg_diff: 0.0\n",
      "\tavg_pos_diff: 0.0\n",
      "\tachieved_x: 1.0\n",
      "\tachieved_y: 1.0\n",
      "\ttotal_achieved: 1.0\n"
     ]
    },
    {
     "name": "stderr",
     "output_type": "stream",
     "text": [
      " 97%|█████████▋| 9700/10000 [01:07<00:02, 148.84it/s]"
     ]
    },
    {
     "name": "stdout",
     "output_type": "stream",
     "text": [
      "Beginning logging...\n",
      "Evaluating closed_loop_grid_world_goals_label_diff\n",
      "train:\n",
      "\tactions_ce_loss: 0.9792702794075012\n",
      "\tbaseline_actions_loss: 1.5255439281463623\n",
      "\tce_loss: 2.5048141479492188\n",
      "\tmain_loss: 2.5048141479492188\n",
      "Logs:\n",
      "\tstep_per_sec: 147.30280853153678\n",
      "\tcum_steps: 70000\n",
      "\treplay_size: 70000\n",
      "\tagent_eps: 0.1006428571428571\n",
      "\teval_time: 0.3443770408630371\n",
      "closed_loop_grid_world_goals_label_diff:\n",
      "\tx: 0.0\n",
      "\ty: 0.0\n",
      "\tavg_diff: 0.0\n",
      "\tavg_pos_diff: 0.0\n",
      "\tachieved_x: 1.0\n",
      "\tachieved_y: 1.0\n",
      "\ttotal_achieved: 1.0\n"
     ]
    }
   ],
   "source": [
    "train_glamor(env_cls=env_cls,\n",
    "             model=model,\n",
    "             policy='open_loop',\n",
    "             final_eps=0.1,\n",
    "             eps_steps=int(7e4),\n",
    "             n_interactions=int(7e4),\n",
    "             k=k,\n",
    "             lr=5e-4,\n",
    "             policy_trials=50,\n",
    "             clip_p_actions=-3.15,\n",
    "             test_policies=['closed_loop'],\n",
    "             test_tasks=['train'],\n",
    "             eval_types=['labels'],\n",
    "             include_labels=None,\n",
    "             n_label_tasks=5,\n",
    "             n_video_tasks=5,\n",
    "             n_eval_tasks=5,\n",
    "             device=device,\n",
    "             gamma=0.5,\n",
    "             n_tasks=0,\n",
    "             train_tasks=task_dist,\n",
    "             replay_ratio=4,\n",
    "             log_period=int(1e4),\n",
    "             snapshot_period=int(1e5),\n",
    "             buffer_size=int(1e5),\n",
    "             min_step_learn=int(3e4),\n",
    "             frame_buffer=False)"
   ]
  },
  {
   "cell_type": "markdown",
   "metadata": {},
   "source": [
    "## Evaluate the model\n",
    "\n",
    "Here we instantiate a planner, a policy, and a sampler that returns trajectories following this policy."
   ]
  },
  {
   "cell_type": "code",
   "execution_count": 9,
   "metadata": {},
   "outputs": [],
   "source": [
    "# Eval\n",
    "from glamor.policies.closed_loop import ClosedLoopPolicy\n",
    "from glamor.policies.open_loop import OpenLoopPolicy\n",
    "from glamor.planner.sampling import SamplingPlanner\n",
    "from glamor.samplers.trajectory_sampler import TrajectorySampler\n",
    "\n",
    "planner = SamplingPlanner(model=model, \n",
    "                          gamma=0.5,\n",
    "                          n_actions=n_actions, \n",
    "                          device=device,\n",
    "                          num_trials=10,\n",
    "                          clip_p_actions=None)\n",
    "closed_loop_policy = ClosedLoopPolicy(planner=planner,\n",
    "                                      horizon=k + 1,\n",
    "                                      device=device,\n",
    "                                      action_space=env.action_space)\n",
    "open_loop_policy = OpenLoopPolicy(planner=planner,\n",
    "                                    action_space=env.action_space,\n",
    "                                    terminate=True,\n",
    "                                    horizon=k + 1,\n",
    "                                    device=device)\n",
    "sampler = TrajectorySampler(env_cls=env_cls,\n",
    "                            policy=closed_loop_policy,\n",
    "                            horizon=k,\n",
    "                            tasks=task_dist,\n",
    "                            lazy_labels=True)"
   ]
  },
  {
   "cell_type": "code",
   "execution_count": 14,
   "metadata": {},
   "outputs": [
    {
     "data": {
      "image/png": "[encoded data removed]",
      "text/plain": [
       "<Figure size 432x288 with 1 Axes>"
      ]
     },
     "metadata": {
      "needs_background": "light"
     },
     "output_type": "display_data"
    }
   ],
   "source": [
    "# Run this multiple times to see different trajectories.\n",
    "\n",
    "trajs = sampler.collect_trajectories(n_interactions=None, \n",
    "                                     n_trajs=1)\n",
    "i = 0\n",
    "frames = [get_render(x) for x in trajs[i].obs]\n",
    "max_frame = np.stack(frames, axis=0).max(axis=0)\n",
    "task_frame = get_render(trajs[i].task.obs)\n",
    "combined_frame = max_frame / 2 + task_frame\n",
    "frame = np.concatenate([combined_frame, max_frame], axis=0)\n",
    "plt.imshow(frame);"
   ]
  },
  {
   "cell_type": "code",
   "execution_count": null,
   "metadata": {},
   "outputs": [],
   "source": []
  }
 ],
 "metadata": {
  "kernelspec": {
   "display_name": "Python 3",
   "language": "python",
   "name": "python3"
  },
  "language_info": {
   "codemirror_mode": {
    "name": "ipython",
    "version": 3
   },
   "file_extension": ".py",
   "mimetype": "text/x-python",
   "name": "python",
   "nbconvert_exporter": "python",
   "pygments_lexer": "ipython3",
   "version": "3.6.12"
  }
 },
 "nbformat": 4,
 "nbformat_minor": 4
}
